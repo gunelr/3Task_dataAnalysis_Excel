{
  "nbformat": 4,
  "nbformat_minor": 0,
  "metadata": {
    "colab": {
      "name": "7-shades-of-data-Project-1",
      "provenance": [],
      "include_colab_link": true
    },
    "kernelspec": {
      "name": "python3",
      "display_name": "Python 3"
    },
    "language_info": {
      "name": "python"
    }
  },
  "cells": [
    {
      "cell_type": "markdown",
      "metadata": {
        "id": "view-in-github",
        "colab_type": "text"
      },
      "source": [
        "<a href=\"https://colab.research.google.com/github/gunelr/3Task_dataAnalysis_Excel/blob/main/7_shades_of_data_Project_1.ipynb\" target=\"_parent\"><img src=\"https://colab.research.google.com/assets/colab-badge.svg\" alt=\"Open In Colab\"/></a>"
      ]
    },
    {
      "cell_type": "markdown",
      "source": [
        "# 7 SHADES OF DATA - TEAM PROJECT 1\n",
        "* **EN: STUDENT GRADING SYSTEM**\n",
        "* **TR: Öğrenci not sistemi**"
      ],
      "metadata": {
        "id": "_pgQUrboJQNl"
      }
    },
    {
      "cell_type": "markdown",
      "source": [
        "**Team members**\n",
        "\n",
        "* **Coshgun Rehimli:** coshgunrehimli@gmail.com\n",
        "* **Günel Alizada:** gunelrafig94@gmail.com\n",
        "* **Mardan Mirzaguliyev:** mardan.mirzaguliyev@gmail.com\n",
        "* **Narmin Azizova:** nrminazizova@gmail.com\n",
        "* **Rəna İsgəndərova:** rena.isgenderova27@gmail.com\n",
        "* **Shamistan Huseynov:** shamistan.huseynov@gmail.com\n",
        "* **Turan Aghayev:** turan.agazadeh@gmail.com"
      ],
      "metadata": {
        "id": "hZbl7TGpJVxH"
      }
    },
    {
      "cell_type": "markdown",
      "source": [
        "**CONDITIONS:**\n",
        "\n",
        "* Identify subjects like Mathemathics, Physics, Linear Algebra etc.\n",
        "* Identify note intervals. (80-100 -> A, 70-79 -> B etc.)\n",
        "* Build a system that you can enter and keep student information such as name, surname, school number, exam grade\n",
        "* After receiving input the system should display whether a student passed or failed the subject\n",
        "* If student passes the subject,  there should be a note added to the student information file such as \"Passed\"\n",
        "* If student fails the subject, \"Failed\" should be displayed\n",
        "* Create a dataframe containing all the student information received as an input, displaying the exam results of each student\n",
        "* Save the results as an Excel file"
      ],
      "metadata": {
        "id": "xTvuyB2GJZlv"
      }
    },
    {
      "cell_type": "markdown",
      "source": [
        "**ŞARTLAR:**\n",
        "\n",
        "* Kendinize bir ders belirleyiniz. (Matematik,Fizik, Lineer Cebir vb.)\n",
        "* Not aralığınızı oluşturunuz (100-80 ⇒ A, 79-70 ⇒ B vb.)\n",
        "* Öğrenci Bilgilerini (Ad, Soyad, Okul No, sınav puanı) girebileceğiniz ve bu bilgilerin tutulabileceği bir sistem oluşturunuz.\n",
        "* Girilen bilgilerden yola çıkarak öğrencinin dersi geçip geçmediğini göstermesi gerekmektedir.\n",
        "* Öğrenci dersi geçti ise öğrencinin bilgilerinin tutulduğu alana “Geçti” yazısı, öğrenci dersi geçemedi ise “kaldı” yazısını göstermesi gerekmektedir.\n",
        "* Notları girilen öğrencilerden dersi geçenleri ve geçmeyenleri gösteren bir Dataframe oluşturunuz.\n",
        "* Oluşturulan Dataframe’i Excel tablosuna dönüştürünüz."
      ],
      "metadata": {
        "id": "rRQfhbCLJd1v"
      }
    },
    {
      "cell_type": "code",
      "execution_count": null,
      "metadata": {
        "id": "HZXIACZdJMJN"
      },
      "outputs": [],
      "source": [
        "import pandas as pd\n",
        "from openpyxl import Workbook"
      ]
    },
    {
      "cell_type": "markdown",
      "source": [
        "### Create grading interval"
      ],
      "metadata": {
        "id": "MOktiIgOJp4_"
      }
    },
    {
      "cell_type": "code",
      "source": [
        "def gradeStudent(point):\n",
        "    if point >= 90:\n",
        "        return 'A'\n",
        "    elif point >= 80 and point < 90:\n",
        "        return 'B'\n",
        "    elif point >= 70 and point < 80:\n",
        "        return 'C'\n",
        "    elif point <= 60 and point > 50:\n",
        "        return 'D'\n",
        "    else:\n",
        "        return 'F'"
      ],
      "metadata": {
        "id": "isexvol4Jq9R"
      },
      "execution_count": null,
      "outputs": []
    },
    {
      "cell_type": "markdown",
      "source": [
        "### Create student information system"
      ],
      "metadata": {
        "id": "O6Yv22M3JvQw"
      }
    },
    {
      "cell_type": "code",
      "source": [
        "class Student:\n",
        "    def __init__(self, name, surname, schoolNo, subject, grade):\n",
        "        self.name = name\n",
        "        self.surname = surname\n",
        "        self.schoolNo = schoolNo\n",
        "        self.subject = subject\n",
        "        self.grade = gradeStudent(point)"
      ],
      "metadata": {
        "id": "TpfZGLVVJwQl"
      },
      "execution_count": null,
      "outputs": []
    },
    {
      "cell_type": "code",
      "source": [
        "# empty list that will contain information about student results\n",
        "students_results = []\n",
        "\n",
        "try:\n",
        "    iterations =  int(input(\"Please enter the number of students that you want to include in Excel file: \"))\n",
        "except:\n",
        "    # in case if there is not correct type inserted we will throw this error\n",
        "    raise TypeError(\"Type is not correct\")\n",
        "\n",
        "for i in range(iterations):\n",
        "    # we are starting to take inputs from user\n",
        "    try:\n",
        "        print('------')\n",
        "        name = input(\"Name: \").upper()\n",
        "        surname = input(\"Surname: \").upper()\n",
        "        schoolNo = input(\"schoolNo: \")\n",
        "        subject = input(\"Subject: \").upper()\n",
        "        point = int(input(\"Point: \"))\n",
        "        \n",
        "        #We are creating our model\n",
        "        student  = Student(name, surname, schoolNo, subject, point)\n",
        "        students_results.append(student)\n",
        "    except:\n",
        "        raise TypeError(\"Type is not correct\")\n",
        "\n",
        "\n",
        "# We are converting list of students to DF then print and save it excel file\n",
        "df_results = pd.DataFrame([t.__dict__ for t in students_results])\n",
        "#df_results = df_results.loc[:, df_passed.columns!='passed']\n",
        "\n",
        "print(\"Students' results\")\n",
        "print(df_results)\n",
        "df_results.to_excel('students-results.xlsx')"
      ],
      "metadata": {
        "id": "crdrN3B8J-fT"
      },
      "execution_count": null,
      "outputs": []
    }
  ]
}